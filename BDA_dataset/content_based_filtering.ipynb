{
  "nbformat": 4,
  "nbformat_minor": 0,
  "metadata": {
    "colab": {
      "provenance": []
    },
    "kernelspec": {
      "name": "python3",
      "display_name": "Python 3"
    },
    "language_info": {
      "name": "python"
    },
    "gpuClass": "standard",
    "accelerator": "GPU"
  },
  "cells": [
    {
      "cell_type": "code",
      "execution_count": 1,
      "metadata": {
        "colab": {
          "base_uri": "https://localhost:8080/"
        },
        "id": "iRZ_b11KK0ud",
        "outputId": "581ffe63-5130-47fc-f938-824d2e0c79ec"
      },
      "outputs": [
        {
          "output_type": "stream",
          "name": "stdout",
          "text": [
            "Mounted at /content/drive\n"
          ]
        }
      ],
      "source": [
        "from google.colab import drive\n",
        "drive.mount('/content/drive')"
      ]
    },
    {
      "cell_type": "code",
      "source": [
        "import numpy as np\n",
        "import pandas as pd\n",
        "import random\n",
        "import matplotlib.pyplot as plt\n",
        "from sklearn.feature_extraction.text import CountVectorizer\n",
        "from sklearn.metrics.pairwise import cosine_similarity"
      ],
      "metadata": {
        "id": "w7gt-rn-LFbw"
      },
      "execution_count": 1,
      "outputs": []
    },
    {
      "cell_type": "code",
      "source": [
        "# Load the dataset\n",
        "data = pd.read_csv(\"/content/drive/MyDrive/BDA_dataset/SpotifyFeatures.csv\")\n",
        "# data = data.sample(n=5000, random_state=3)\n",
        "data = data.head(5000)"
      ],
      "metadata": {
        "id": "kfS5QHotMaLe"
      },
      "execution_count": 9,
      "outputs": []
    },
    {
      "cell_type": "code",
      "source": [
        "data"
      ],
      "metadata": {
        "colab": {
          "base_uri": "https://localhost:8080/",
          "height": 748
        },
        "id": "4XBBTIDg8ZWZ",
        "outputId": "f5a4e709-2ad8-4bf6-f0c1-e0dcfbcf3cbc"
      },
      "execution_count": 18,
      "outputs": [
        {
          "output_type": "execute_result",
          "data": {
            "text/plain": [
              "                     artists                  track_name  \\\n",
              "0                Gen Hoshino                      comedy   \n",
              "1               Ben Woodward            ghost - acoustic   \n",
              "2     Ingrid Michaelson;ZAYN              to begin again   \n",
              "3               Kina Grannis  can't help falling in love   \n",
              "4           Chord Overstreet                     hold on   \n",
              "...                      ...                         ...   \n",
              "4995        Ludovico Einaudi                        drop   \n",
              "4996                     Air       kelly watch the stars   \n",
              "4997        Ludovico Einaudi                    passagio   \n",
              "4998             Liquid Mind                  blue seven   \n",
              "4999             Liquid Mind           deep sleep, pt. 1   \n",
              "\n",
              "                                             album_name  duration_ms  \\\n",
              "0                                                Comedy       230666   \n",
              "1                                      Ghost (Acoustic)       149610   \n",
              "2                                        To Begin Again       210826   \n",
              "3     Crazy Rich Asians (Original Motion Picture Sou...       201933   \n",
              "4                                               Hold On       198853   \n",
              "...                                                 ...          ...   \n",
              "4995                                  Elements (Deluxe)       300293   \n",
              "4996                                        Moon Safari       226293   \n",
              "4997                        Islands - Essential Einaudi       357773   \n",
              "4998                         Liquid Mind II: Slow World       760053   \n",
              "4999                         Liquid Mind XI: Deep Sleep       368226   \n",
              "\n",
              "      popularity  acousticness  danceability  energy  instrumentalness  \\\n",
              "0             73        0.0322        0.6760  0.4610          0.000001   \n",
              "1             55        0.9240        0.4200  0.1660          0.000006   \n",
              "2             57        0.2100        0.4380  0.3590          0.000000   \n",
              "3             71        0.9050        0.2660  0.0596          0.000071   \n",
              "4             82        0.4690        0.6180  0.4430          0.000000   \n",
              "...          ...           ...           ...     ...               ...   \n",
              "4995          49        0.9920        0.4650  0.0342          0.939000   \n",
              "4996          55        0.2820        0.5160  0.7430          0.637000   \n",
              "4997          50        0.9950        0.2220  0.0200          0.948000   \n",
              "4998          24        0.9030        0.0576  0.1690          0.966000   \n",
              "4999          26        0.9650        0.1560  0.1260          0.972000   \n",
              "\n",
              "      liveness  loudness  mode  speechiness    tempo  time_signature  valence  \n",
              "0       0.3580    -6.746     0       0.1430   87.917               4   0.7150  \n",
              "1       0.1010   -17.235     1       0.0763   77.489               4   0.2670  \n",
              "2       0.1170    -9.734     1       0.0557   76.332               4   0.1200  \n",
              "3       0.1320   -18.515     1       0.0363  181.740               3   0.1430  \n",
              "4       0.0829    -9.681     1       0.0526  119.949               4   0.1670  \n",
              "...        ...       ...   ...          ...      ...             ...      ...  \n",
              "4995    0.1030   -28.257     0       0.0401  152.054               4   0.0590  \n",
              "4996    0.1110    -8.470     1       0.0292  109.837               4   0.2260  \n",
              "4997    0.0945   -27.114     1       0.0464   85.860               4   0.1190  \n",
              "4998    0.1170   -20.216     1       0.0484   50.838               4   0.0310  \n",
              "4999    0.1060   -22.038     1       0.0389   74.775               4   0.0341  \n",
              "\n",
              "[3753 rows x 16 columns]"
            ],
            "text/html": [
              "\n",
              "  <div id=\"df-81b8a7a3-a218-48d2-af67-3e2c16a1f9a8\">\n",
              "    <div class=\"colab-df-container\">\n",
              "      <div>\n",
              "<style scoped>\n",
              "    .dataframe tbody tr th:only-of-type {\n",
              "        vertical-align: middle;\n",
              "    }\n",
              "\n",
              "    .dataframe tbody tr th {\n",
              "        vertical-align: top;\n",
              "    }\n",
              "\n",
              "    .dataframe thead th {\n",
              "        text-align: right;\n",
              "    }\n",
              "</style>\n",
              "<table border=\"1\" class=\"dataframe\">\n",
              "  <thead>\n",
              "    <tr style=\"text-align: right;\">\n",
              "      <th></th>\n",
              "      <th>artists</th>\n",
              "      <th>track_name</th>\n",
              "      <th>album_name</th>\n",
              "      <th>duration_ms</th>\n",
              "      <th>popularity</th>\n",
              "      <th>acousticness</th>\n",
              "      <th>danceability</th>\n",
              "      <th>energy</th>\n",
              "      <th>instrumentalness</th>\n",
              "      <th>liveness</th>\n",
              "      <th>loudness</th>\n",
              "      <th>mode</th>\n",
              "      <th>speechiness</th>\n",
              "      <th>tempo</th>\n",
              "      <th>time_signature</th>\n",
              "      <th>valence</th>\n",
              "    </tr>\n",
              "  </thead>\n",
              "  <tbody>\n",
              "    <tr>\n",
              "      <th>0</th>\n",
              "      <td>Gen Hoshino</td>\n",
              "      <td>comedy</td>\n",
              "      <td>Comedy</td>\n",
              "      <td>230666</td>\n",
              "      <td>73</td>\n",
              "      <td>0.0322</td>\n",
              "      <td>0.6760</td>\n",
              "      <td>0.4610</td>\n",
              "      <td>0.000001</td>\n",
              "      <td>0.3580</td>\n",
              "      <td>-6.746</td>\n",
              "      <td>0</td>\n",
              "      <td>0.1430</td>\n",
              "      <td>87.917</td>\n",
              "      <td>4</td>\n",
              "      <td>0.7150</td>\n",
              "    </tr>\n",
              "    <tr>\n",
              "      <th>1</th>\n",
              "      <td>Ben Woodward</td>\n",
              "      <td>ghost - acoustic</td>\n",
              "      <td>Ghost (Acoustic)</td>\n",
              "      <td>149610</td>\n",
              "      <td>55</td>\n",
              "      <td>0.9240</td>\n",
              "      <td>0.4200</td>\n",
              "      <td>0.1660</td>\n",
              "      <td>0.000006</td>\n",
              "      <td>0.1010</td>\n",
              "      <td>-17.235</td>\n",
              "      <td>1</td>\n",
              "      <td>0.0763</td>\n",
              "      <td>77.489</td>\n",
              "      <td>4</td>\n",
              "      <td>0.2670</td>\n",
              "    </tr>\n",
              "    <tr>\n",
              "      <th>2</th>\n",
              "      <td>Ingrid Michaelson;ZAYN</td>\n",
              "      <td>to begin again</td>\n",
              "      <td>To Begin Again</td>\n",
              "      <td>210826</td>\n",
              "      <td>57</td>\n",
              "      <td>0.2100</td>\n",
              "      <td>0.4380</td>\n",
              "      <td>0.3590</td>\n",
              "      <td>0.000000</td>\n",
              "      <td>0.1170</td>\n",
              "      <td>-9.734</td>\n",
              "      <td>1</td>\n",
              "      <td>0.0557</td>\n",
              "      <td>76.332</td>\n",
              "      <td>4</td>\n",
              "      <td>0.1200</td>\n",
              "    </tr>\n",
              "    <tr>\n",
              "      <th>3</th>\n",
              "      <td>Kina Grannis</td>\n",
              "      <td>can't help falling in love</td>\n",
              "      <td>Crazy Rich Asians (Original Motion Picture Sou...</td>\n",
              "      <td>201933</td>\n",
              "      <td>71</td>\n",
              "      <td>0.9050</td>\n",
              "      <td>0.2660</td>\n",
              "      <td>0.0596</td>\n",
              "      <td>0.000071</td>\n",
              "      <td>0.1320</td>\n",
              "      <td>-18.515</td>\n",
              "      <td>1</td>\n",
              "      <td>0.0363</td>\n",
              "      <td>181.740</td>\n",
              "      <td>3</td>\n",
              "      <td>0.1430</td>\n",
              "    </tr>\n",
              "    <tr>\n",
              "      <th>4</th>\n",
              "      <td>Chord Overstreet</td>\n",
              "      <td>hold on</td>\n",
              "      <td>Hold On</td>\n",
              "      <td>198853</td>\n",
              "      <td>82</td>\n",
              "      <td>0.4690</td>\n",
              "      <td>0.6180</td>\n",
              "      <td>0.4430</td>\n",
              "      <td>0.000000</td>\n",
              "      <td>0.0829</td>\n",
              "      <td>-9.681</td>\n",
              "      <td>1</td>\n",
              "      <td>0.0526</td>\n",
              "      <td>119.949</td>\n",
              "      <td>4</td>\n",
              "      <td>0.1670</td>\n",
              "    </tr>\n",
              "    <tr>\n",
              "      <th>...</th>\n",
              "      <td>...</td>\n",
              "      <td>...</td>\n",
              "      <td>...</td>\n",
              "      <td>...</td>\n",
              "      <td>...</td>\n",
              "      <td>...</td>\n",
              "      <td>...</td>\n",
              "      <td>...</td>\n",
              "      <td>...</td>\n",
              "      <td>...</td>\n",
              "      <td>...</td>\n",
              "      <td>...</td>\n",
              "      <td>...</td>\n",
              "      <td>...</td>\n",
              "      <td>...</td>\n",
              "      <td>...</td>\n",
              "    </tr>\n",
              "    <tr>\n",
              "      <th>4995</th>\n",
              "      <td>Ludovico Einaudi</td>\n",
              "      <td>drop</td>\n",
              "      <td>Elements (Deluxe)</td>\n",
              "      <td>300293</td>\n",
              "      <td>49</td>\n",
              "      <td>0.9920</td>\n",
              "      <td>0.4650</td>\n",
              "      <td>0.0342</td>\n",
              "      <td>0.939000</td>\n",
              "      <td>0.1030</td>\n",
              "      <td>-28.257</td>\n",
              "      <td>0</td>\n",
              "      <td>0.0401</td>\n",
              "      <td>152.054</td>\n",
              "      <td>4</td>\n",
              "      <td>0.0590</td>\n",
              "    </tr>\n",
              "    <tr>\n",
              "      <th>4996</th>\n",
              "      <td>Air</td>\n",
              "      <td>kelly watch the stars</td>\n",
              "      <td>Moon Safari</td>\n",
              "      <td>226293</td>\n",
              "      <td>55</td>\n",
              "      <td>0.2820</td>\n",
              "      <td>0.5160</td>\n",
              "      <td>0.7430</td>\n",
              "      <td>0.637000</td>\n",
              "      <td>0.1110</td>\n",
              "      <td>-8.470</td>\n",
              "      <td>1</td>\n",
              "      <td>0.0292</td>\n",
              "      <td>109.837</td>\n",
              "      <td>4</td>\n",
              "      <td>0.2260</td>\n",
              "    </tr>\n",
              "    <tr>\n",
              "      <th>4997</th>\n",
              "      <td>Ludovico Einaudi</td>\n",
              "      <td>passagio</td>\n",
              "      <td>Islands - Essential Einaudi</td>\n",
              "      <td>357773</td>\n",
              "      <td>50</td>\n",
              "      <td>0.9950</td>\n",
              "      <td>0.2220</td>\n",
              "      <td>0.0200</td>\n",
              "      <td>0.948000</td>\n",
              "      <td>0.0945</td>\n",
              "      <td>-27.114</td>\n",
              "      <td>1</td>\n",
              "      <td>0.0464</td>\n",
              "      <td>85.860</td>\n",
              "      <td>4</td>\n",
              "      <td>0.1190</td>\n",
              "    </tr>\n",
              "    <tr>\n",
              "      <th>4998</th>\n",
              "      <td>Liquid Mind</td>\n",
              "      <td>blue seven</td>\n",
              "      <td>Liquid Mind II: Slow World</td>\n",
              "      <td>760053</td>\n",
              "      <td>24</td>\n",
              "      <td>0.9030</td>\n",
              "      <td>0.0576</td>\n",
              "      <td>0.1690</td>\n",
              "      <td>0.966000</td>\n",
              "      <td>0.1170</td>\n",
              "      <td>-20.216</td>\n",
              "      <td>1</td>\n",
              "      <td>0.0484</td>\n",
              "      <td>50.838</td>\n",
              "      <td>4</td>\n",
              "      <td>0.0310</td>\n",
              "    </tr>\n",
              "    <tr>\n",
              "      <th>4999</th>\n",
              "      <td>Liquid Mind</td>\n",
              "      <td>deep sleep, pt. 1</td>\n",
              "      <td>Liquid Mind XI: Deep Sleep</td>\n",
              "      <td>368226</td>\n",
              "      <td>26</td>\n",
              "      <td>0.9650</td>\n",
              "      <td>0.1560</td>\n",
              "      <td>0.1260</td>\n",
              "      <td>0.972000</td>\n",
              "      <td>0.1060</td>\n",
              "      <td>-22.038</td>\n",
              "      <td>1</td>\n",
              "      <td>0.0389</td>\n",
              "      <td>74.775</td>\n",
              "      <td>4</td>\n",
              "      <td>0.0341</td>\n",
              "    </tr>\n",
              "  </tbody>\n",
              "</table>\n",
              "<p>3753 rows × 16 columns</p>\n",
              "</div>\n",
              "      <button class=\"colab-df-convert\" onclick=\"convertToInteractive('df-81b8a7a3-a218-48d2-af67-3e2c16a1f9a8')\"\n",
              "              title=\"Convert this dataframe to an interactive table.\"\n",
              "              style=\"display:none;\">\n",
              "        \n",
              "  <svg xmlns=\"http://www.w3.org/2000/svg\" height=\"24px\"viewBox=\"0 0 24 24\"\n",
              "       width=\"24px\">\n",
              "    <path d=\"M0 0h24v24H0V0z\" fill=\"none\"/>\n",
              "    <path d=\"M18.56 5.44l.94 2.06.94-2.06 2.06-.94-2.06-.94-.94-2.06-.94 2.06-2.06.94zm-11 1L8.5 8.5l.94-2.06 2.06-.94-2.06-.94L8.5 2.5l-.94 2.06-2.06.94zm10 10l.94 2.06.94-2.06 2.06-.94-2.06-.94-.94-2.06-.94 2.06-2.06.94z\"/><path d=\"M17.41 7.96l-1.37-1.37c-.4-.4-.92-.59-1.43-.59-.52 0-1.04.2-1.43.59L10.3 9.45l-7.72 7.72c-.78.78-.78 2.05 0 2.83L4 21.41c.39.39.9.59 1.41.59.51 0 1.02-.2 1.41-.59l7.78-7.78 2.81-2.81c.8-.78.8-2.07 0-2.86zM5.41 20L4 18.59l7.72-7.72 1.47 1.35L5.41 20z\"/>\n",
              "  </svg>\n",
              "      </button>\n",
              "      \n",
              "  <style>\n",
              "    .colab-df-container {\n",
              "      display:flex;\n",
              "      flex-wrap:wrap;\n",
              "      gap: 12px;\n",
              "    }\n",
              "\n",
              "    .colab-df-convert {\n",
              "      background-color: #E8F0FE;\n",
              "      border: none;\n",
              "      border-radius: 50%;\n",
              "      cursor: pointer;\n",
              "      display: none;\n",
              "      fill: #1967D2;\n",
              "      height: 32px;\n",
              "      padding: 0 0 0 0;\n",
              "      width: 32px;\n",
              "    }\n",
              "\n",
              "    .colab-df-convert:hover {\n",
              "      background-color: #E2EBFA;\n",
              "      box-shadow: 0px 1px 2px rgba(60, 64, 67, 0.3), 0px 1px 3px 1px rgba(60, 64, 67, 0.15);\n",
              "      fill: #174EA6;\n",
              "    }\n",
              "\n",
              "    [theme=dark] .colab-df-convert {\n",
              "      background-color: #3B4455;\n",
              "      fill: #D2E3FC;\n",
              "    }\n",
              "\n",
              "    [theme=dark] .colab-df-convert:hover {\n",
              "      background-color: #434B5C;\n",
              "      box-shadow: 0px 1px 3px 1px rgba(0, 0, 0, 0.15);\n",
              "      filter: drop-shadow(0px 1px 2px rgba(0, 0, 0, 0.3));\n",
              "      fill: #FFFFFF;\n",
              "    }\n",
              "  </style>\n",
              "\n",
              "      <script>\n",
              "        const buttonEl =\n",
              "          document.querySelector('#df-81b8a7a3-a218-48d2-af67-3e2c16a1f9a8 button.colab-df-convert');\n",
              "        buttonEl.style.display =\n",
              "          google.colab.kernel.accessAllowed ? 'block' : 'none';\n",
              "\n",
              "        async function convertToInteractive(key) {\n",
              "          const element = document.querySelector('#df-81b8a7a3-a218-48d2-af67-3e2c16a1f9a8');\n",
              "          const dataTable =\n",
              "            await google.colab.kernel.invokeFunction('convertToInteractive',\n",
              "                                                     [key], {});\n",
              "          if (!dataTable) return;\n",
              "\n",
              "          const docLinkHtml = 'Like what you see? Visit the ' +\n",
              "            '<a target=\"_blank\" href=https://colab.research.google.com/notebooks/data_table.ipynb>data table notebook</a>'\n",
              "            + ' to learn more about interactive tables.';\n",
              "          element.innerHTML = '';\n",
              "          dataTable['output_type'] = 'display_data';\n",
              "          await google.colab.output.renderOutput(dataTable, element);\n",
              "          const docLink = document.createElement('div');\n",
              "          docLink.innerHTML = docLinkHtml;\n",
              "          element.appendChild(docLink);\n",
              "        }\n",
              "      </script>\n",
              "    </div>\n",
              "  </div>\n",
              "  "
            ]
          },
          "metadata": {},
          "execution_count": 18
        }
      ]
    },
    {
      "cell_type": "code",
      "source": [
        "# Select the relevant features for recommendation\n",
        "features = ['artists', 'track_name','album_name', 'duration_ms','popularity', 'acousticness', 'danceability', 'energy', 'instrumentalness', 'liveness', 'loudness', 'mode', 'speechiness', 'tempo', 'time_signature', 'valence']\n",
        "data = data[features]\n"
      ],
      "metadata": {
        "id": "pfnFnwQuMkk7"
      },
      "execution_count": 10,
      "outputs": []
    },
    {
      "cell_type": "code",
      "source": [
        "# Preprocess the data\n",
        "data = data.dropna()\n",
        "data = data.drop_duplicates(subset='track_name')\n"
      ],
      "metadata": {
        "id": "d3wzWPkENLj7"
      },
      "execution_count": 11,
      "outputs": []
    },
    {
      "cell_type": "code",
      "source": [
        "# Convert the track_name column to lowercase\n",
        "data['track_name'] = data['track_name'].str.lower()"
      ],
      "metadata": {
        "id": "mFIQZpouCsLs"
      },
      "execution_count": 12,
      "outputs": []
    },
    {
      "cell_type": "code",
      "source": [
        "# Create a CountVectorizer object and fit it to the track_name column\n",
        "count = CountVectorizer(stop_words='english')\n",
        "count_matrix = count.fit_transform(data['track_name'])\n"
      ],
      "metadata": {
        "id": "71LgMbqHNbsR"
      },
      "execution_count": 13,
      "outputs": []
    },
    {
      "cell_type": "code",
      "source": [
        "# Compute the cosine similarity matrix\n",
        "cosine_sim = cosine_similarity( count_matrix)\n",
        "cosine_sim"
      ],
      "metadata": {
        "id": "z2D-8HfjNihS",
        "colab": {
          "base_uri": "https://localhost:8080/"
        },
        "outputId": "148d1061-4390-49c0-eac4-d34724a596bf"
      },
      "execution_count": 14,
      "outputs": [
        {
          "output_type": "execute_result",
          "data": {
            "text/plain": [
              "array([[1., 0., 0., ..., 0., 0., 0.],\n",
              "       [0., 1., 0., ..., 0., 0., 0.],\n",
              "       [0., 0., 1., ..., 0., 0., 0.],\n",
              "       ...,\n",
              "       [0., 0., 0., ..., 1., 0., 0.],\n",
              "       [0., 0., 0., ..., 0., 1., 0.],\n",
              "       [0., 0., 0., ..., 0., 0., 1.]])"
            ]
          },
          "metadata": {},
          "execution_count": 14
        }
      ]
    },
    {
      "cell_type": "code",
      "source": [
        "def get_recommendations(track_name, data, cosine_sim):\n",
        "    # Make sure the track name is in the DataFrame\n",
        "    if track_name not in data['track_name'].values:\n",
        "        print(f'Track \"{track_name}\" not found in the dataset.')\n",
        "        return pd.DataFrame()\n",
        "    \n",
        "    # Get the index of the track\n",
        "    idx = data[data['track_name'] == track_name].index[0]\n",
        "    \n",
        "    # Get similarity scores for all tracks\n",
        "    sim_scores = list(enumerate(cosine_sim[idx]))\n",
        "    \n",
        "    # Sort tracks by similarity score in descending order\n",
        "    sim_scores = sorted(sim_scores, key=lambda x: x[1], reverse=True)\n",
        "    \n",
        "    # Get the indices of the top 10 similar tracks (excluding itself)\n",
        "    track_indices = [i[0] for i in sim_scores if i[0] != idx][:10]\n",
        "    \n",
        "    # Get the data of the recommended tracks\n",
        "    recommended_tracks = data.iloc[track_indices][['track_name', 'artists', 'album_name']]\n",
        "    \n",
        "    return recommended_tracks\n"
      ],
      "metadata": {
        "id": "ZKRvJeq-ORjk"
      },
      "execution_count": 15,
      "outputs": []
    },
    {
      "cell_type": "code",
      "source": [
        "# random_track_name = data['track_name'].sample().iloc[0]\n",
        "random_track_name = data.iloc[4][1]\n",
        "# get recommendations for the random track\n",
        "recommendations = get_recommendations(random_track_name, data, cosine_sim)\n",
        "\n",
        "# print the recommendations\n",
        "print(f'Recommended tracks for \"{random_track_name}\":\\n{recommendations}')\n"
      ],
      "metadata": {
        "colab": {
          "base_uri": "https://localhost:8080/"
        },
        "id": "0Xhy_nS3CQIH",
        "outputId": "ed14a24f-4264-473a-b3f8-1ef059baaa01"
      },
      "execution_count": 23,
      "outputs": [
        {
          "output_type": "stream",
          "name": "stdout",
          "text": [
            "Recommended tracks for \"hold on\":\n",
            "                              track_name                       artists  \\\n",
            "14                       hold on - remix      Chord Overstreet;Deepend   \n",
            "233                         hand to hold                     JJ Heller   \n",
            "234                  hold you in my arms                Ray LaMontagne   \n",
            "325                   hold on - acoustic              Chord Overstreet   \n",
            "709   hold each other (feat. futuristic)  A Great Big World;Futuristic   \n",
            "4603            versailles (hold) - edit             Christian Löffler   \n",
            "0                                 comedy                   Gen Hoshino   \n",
            "1                       ghost - acoustic                  Ben Woodward   \n",
            "2                         to begin again        Ingrid Michaelson;ZAYN   \n",
            "3             can't help falling in love                  Kina Grannis   \n",
            "\n",
            "                                             album_name  \n",
            "14                                      Hold On (Remix)  \n",
            "233                                        Hand to Hold  \n",
            "234                                             Trouble  \n",
            "325                                  Hold On (Acoustic)  \n",
            "709                              When the Morning Comes  \n",
            "4603                                  Versailles (Hold)  \n",
            "0                                                Comedy  \n",
            "1                                      Ghost (Acoustic)  \n",
            "2                                        To Begin Again  \n",
            "3     Crazy Rich Asians (Original Motion Picture Sou...  \n"
          ]
        }
      ]
    },
    {
      "cell_type": "code",
      "source": [
        "random_track_name = data.iloc[4][1]\n",
        "random_track_name"
      ],
      "metadata": {
        "colab": {
          "base_uri": "https://localhost:8080/",
          "height": 35
        },
        "id": "Jv0nzYJT79U-",
        "outputId": "ea8d2be8-3795-48f7-848c-a53409afce09"
      },
      "execution_count": 22,
      "outputs": [
        {
          "output_type": "execute_result",
          "data": {
            "text/plain": [
              "'hold on'"
            ],
            "application/vnd.google.colaboratory.intrinsic+json": {
              "type": "string"
            }
          },
          "metadata": {},
          "execution_count": 22
        }
      ]
    },
    {
      "cell_type": "code",
      "source": [],
      "metadata": {
        "id": "ONN_7PBfHt1O"
      },
      "execution_count": null,
      "outputs": []
    }
  ]
}